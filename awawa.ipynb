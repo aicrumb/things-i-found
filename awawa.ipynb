{
  "nbformat": 4,
  "nbformat_minor": 0,
  "metadata": {
    "colab": {
      "provenance": []
    },
    "kernelspec": {
      "name": "python3",
      "display_name": "Python 3"
    },
    "language_info": {
      "name": "python"
    },
    "accelerator": "GPU",
    "gpuClass": "standard"
  },
  "cells": [
    {
      "cell_type": "markdown",
      "source": [
        "https://twitter.com/aicrumb/status/1650350363898265601"
      ],
      "metadata": {
        "id": "Z4HUnKQFAa9R"
      }
    },
    {
      "cell_type": "code",
      "execution_count": 1,
      "metadata": {
        "id": "l_zzdPXBsJ8A"
      },
      "outputs": [],
      "source": [
        "!pip install -qq transformers accelerate bitsandbytes"
      ]
    },
    {
      "cell_type": "code",
      "source": [
        "from transformers import AutoModelForCausalLM, AutoTokenizer\n",
        "import torch\n",
        "import os\n",
        "model_name = \"gpt2\"\n",
        "if not os.path.exists('offload'): os.mkdir('offload')\n",
        "model = AutoModelForCausalLM.from_pretrained(model_name, device_map='auto', offload_folder='offload')\n",
        "tok = AutoTokenizer.from_pretrained(model_name)\n",
        "labels = tok(\"wawawawawawa :3 ><\", return_tensors='pt').input_ids.cuda()\n",
        "score = torch.exp(model(labels, labels=labels).loss)\n",
        "print(f\"| {model_name} | {score} |\")\n",
        "# you can submit a pr for this file specifically: https://github.com/aicrumb/things-i-found/blob/main/eval.md\n",
        "# and i can update the chart or something"
      ],
      "metadata": {
        "colab": {
          "base_uri": "https://localhost:8080/"
        },
        "id": "QroYC50wsNjy",
        "outputId": "6d2b1a69-6f71-4606-b0f7-f7e131d5700c"
      },
      "execution_count": 2,
      "outputs": [
        {
          "output_type": "stream",
          "name": "stdout",
          "text": [
            "| gpt2 | 491.57061767578125 |\n"
          ]
        }
      ]
    },
    {
      "cell_type": "code",
      "source": [],
      "metadata": {
        "id": "LaXKNDPc_jqC"
      },
      "execution_count": 2,
      "outputs": []
    }
  ]
}
